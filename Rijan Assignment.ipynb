{
 "cells": [
  {
   "cell_type": "markdown",
   "metadata": {},
   "source": [
    "#CONDITIONAL STATMENT"
   ]
  },
  {
   "cell_type": "code",
   "execution_count": null,
   "metadata": {},
   "outputs": [],
   "source": [
    "#conditional statement\n",
    "\n",
    " #check the number is even or odd\n",
    "\n",
    "num = int(input(\"Enter Any Number\"))\n",
    "\n",
    "if num%2==0:\n",
    "    print(\"The Number is Odd\")\n",
    "#Check The Number is positive Negative or zero \n",
    "\n",
    "check = int(input(\"Enter Any Number\"))\n",
    "\n",
    "if check==0:\n",
    "    print(\"The Number is zero\")\n",
    "\n",
    "elif check<0:\n",
    "    print(\"The number is negative\")"
   ]
  },
  {
   "cell_type": "code",
   "execution_count": 21,
   "metadata": {},
   "outputs": [
    {
     "name": "stdout",
     "output_type": "stream",
     "text": [
      "You Can Vote Bro\n"
     ]
    }
   ],
   "source": [
    "#Check User Can Vote or Not\n",
    "\n",
    "age = int(input(\"Enter Your Age\"))\n",
    "\n",
    "if age>=18:\n",
    "    print(\"You Can Vote Bro\")\n",
    "\n",
    "else:\n",
    "    print(\"Sorry, You Can't Vote\")"
   ]
  },
  {
   "cell_type": "code",
   "execution_count": 4,
   "metadata": {},
   "outputs": [
    {
     "name": "stdout",
     "output_type": "stream",
     "text": [
      "Equalateral Triangle\n"
     ]
    }
   ],
   "source": [
    "#Check The Triangle is Equlateral,Isosceles,Scalane\n",
    "\n",
    "side1 = int(input(\"Enter Side 1\"))\n",
    "side2 = int(input(\"Enter Side 2\"))\n",
    "side3 = int(input(\"Enter Side 3\"))\n",
    "\n",
    "if side1 == side2 == side3:\n",
    "    print(\"Equalateral Triangle\")\n",
    "\n",
    "elif side1 == side2 or side2 != side3 or side1 == side3:\n",
    "    print(\"Isoscles Triangle\")\n",
    "\n",
    "else:\n",
    "    print(\"Scalene Triangle\")\n",
    "\n",
    "\n",
    "\n",
    "\n",
    "\n"
   ]
  },
  {
   "cell_type": "code",
   "execution_count": 5,
   "metadata": {},
   "outputs": [
    {
     "name": "stdout",
     "output_type": "stream",
     "text": [
      "The Password is Correct\n"
     ]
    }
   ],
   "source": [
    "#Check Password\n",
    "\n",
    "p = input(\"Enter a Password\")\n",
    "\n",
    "if p == \"python123\":\n",
    "    print(\"The Password is Correct\")\n",
    "\n",
    "else:\n",
    "     print(\"The Password is InCorrect\")"
   ]
  },
  {
   "cell_type": "markdown",
   "metadata": {},
   "source": [
    "#loops "
   ]
  },
  {
   "cell_type": "code",
   "execution_count": 1,
   "metadata": {},
   "outputs": [
    {
     "name": "stdout",
     "output_type": "stream",
     "text": [
      "5\n",
      "10\n",
      "15\n",
      "20\n",
      "25\n",
      "30\n",
      "35\n",
      "40\n",
      "45\n",
      "50\n"
     ]
    }
   ],
   "source": [
    "#For Loops\n",
    "\n",
    "    #Multiplication of 5\n",
    "\n",
    "for multi in range(5,51,5):\n",
    "    print(multi)"
   ]
  },
  {
   "cell_type": "code",
   "execution_count": 2,
   "metadata": {},
   "outputs": [
    {
     "name": "stdout",
     "output_type": "stream",
     "text": [
      "1\n",
      "2\n"
     ]
    }
   ],
   "source": [
    "#Count Vowels\n",
    "\n",
    "count = \"vowels\"\n",
    "vowles = \"aeiou\"\n",
    "v_count = 0\n",
    "\n",
    "for char in count:\n",
    "    if char in vowles:\n",
    "        v_count +=1\n",
    "        print(v_count)"
   ]
  },
  {
   "cell_type": "code",
   "execution_count": 3,
   "metadata": {},
   "outputs": [
    {
     "name": "stdout",
     "output_type": "stream",
     "text": [
      "2\n",
      "10\n",
      "Largest Number is 20\n",
      "Smallest Number is 5\n"
     ]
    }
   ],
   "source": [
    "#Sum of Evene Numbers from a list\n",
    "\n",
    "even_number = [2,5,8,3]\n",
    "sum = 0\n",
    "\n",
    "for num in even_number:\n",
    "    if num%2==0:\n",
    "        sum += num\n",
    "        print(sum)\n",
    "\n",
    "        #Find Largest and smallest number in list \n",
    "\n",
    "number = [10,20,5,8]\n",
    "\n",
    "for num2 in number:\n",
    "    if num2 == 20:\n",
    "        print(f\"Largest Number is 20\")\n",
    "\n",
    "    elif num2 == 5:\n",
    "        print(f\"Smallest Number is 5\")\n"
   ]
  },
  {
   "cell_type": "code",
   "execution_count": 4,
   "metadata": {},
   "outputs": [
    {
     "name": "stdout",
     "output_type": "stream",
     "text": [
      "Total is 1\n",
      "Total is 3\n",
      "Total is 6\n"
     ]
    }
   ],
   "source": [
    "#sum of digits using loop\n",
    "\n",
    "n = int(input(\"Enter Number\")) #1234\n",
    "total = 0\n",
    "\n",
    "for digit in str(n):\n",
    "    total += int(digit)\n",
    "    print(f\"Total is {total}\")"
   ]
  },
  {
   "cell_type": "code",
   "execution_count": 5,
   "metadata": {},
   "outputs": [
    {
     "name": "stdout",
     "output_type": "stream",
     "text": [
      "N\n",
      "O\n",
      "H\n",
      "T\n",
      "Y\n",
      "P\n"
     ]
    }
   ],
   "source": [
    "#Reverse \n",
    "for rev in reversed(\"PYTHON\"):\n",
    "    print(rev)"
   ]
  },
  {
   "cell_type": "markdown",
   "metadata": {},
   "source": [
    "#fUNCTION"
   ]
  },
  {
   "cell_type": "code",
   "execution_count": 7,
   "metadata": {},
   "outputs": [],
   "source": [
    "#return factorial for loop in a function\n",
    "\n",
    "def factorial(n):\n",
    "    if n < 0:\n",
    "        return \"Factorial is not defined for negative numbers.\"\n",
    "    result = 1\n",
    "    for i in range(1, n + 1):\n",
    "        result *= i\n",
    "    return result"
   ]
  },
  {
   "cell_type": "code",
   "execution_count": 8,
   "metadata": {},
   "outputs": [
    {
     "name": "stdout",
     "output_type": "stream",
     "text": [
      "120\n"
     ]
    }
   ],
   "source": [
    "# Example usage:\n",
    "print(factorial(5))"
   ]
  },
  {
   "cell_type": "code",
   "execution_count": 9,
   "metadata": {},
   "outputs": [
    {
     "name": "stdout",
     "output_type": "stream",
     "text": [
      "True\n",
      "False\n"
     ]
    }
   ],
   "source": [
    "\n",
    "#Check Number is prime or not\n",
    "\n",
    "def is_prime(n):\n",
    "    if n <= 1:\n",
    "        return False  # Numbers less than 2 are not prime\n",
    "    for i in range(2, int(n ** 0.5) + 1):  # Check divisors up to √n\n",
    "        if n % i == 0:\n",
    "            return False  # If divisible, it's not prime\n",
    "    return True  # Otherwise, it's prime\n",
    "\n",
    "# Example usage:\n",
    "print(is_prime(7))  # Output: True\n",
    "print(is_prime(10))  # Output: False"
   ]
  },
  {
   "cell_type": "code",
   "execution_count": 10,
   "metadata": {},
   "outputs": [
    {
     "name": "stdout",
     "output_type": "stream",
     "text": [
      "True\n",
      "False\n"
     ]
    }
   ],
   "source": [
    "# Example usage:\n",
    "print(is_prime(7))  # Output: True\n",
    "print(is_prime(10))  # Output: False\n"
   ]
  },
  {
   "cell_type": "code",
   "execution_count": 11,
   "metadata": {},
   "outputs": [
    {
     "name": "stdout",
     "output_type": "stream",
     "text": [
      "7\n",
      "None\n"
     ]
    }
   ],
   "source": [
    "#Find Maximum Among List\n",
    "\n",
    "def find_max(lst):\n",
    "    if not lst:  # Check if the list is empty\n",
    "        return None  # Return None for an empty list\n",
    "    max_value = lst[0]  # Assume the first element is the maximum\n",
    "    for num in lst:\n",
    "        if num > max_value:  # Update max_value if a larger number is found\n",
    "            max_value = num\n",
    "    return max_value\n",
    "\n",
    "# Example usage:\n",
    "print(find_max([1, 3, 7, 0]))  # Output: 7\n",
    "print(find_max([]))            # Output: None\n"
   ]
  },
  {
   "cell_type": "code",
   "execution_count": 12,
   "metadata": {},
   "outputs": [],
   "source": [
    "#Check Palindrome\n",
    "\n",
    "def palindrome_check(string):\n",
    "    string = string.lower()  # Convert to lowercase for case-insensitivity\n",
    "    return string == string[::-1]  # Compare the string with its reverse\n"
   ]
  },
  {
   "cell_type": "code",
   "execution_count": 13,
   "metadata": {},
   "outputs": [
    {
     "name": "stdout",
     "output_type": "stream",
     "text": [
      "True\n",
      "False\n",
      "True\n"
     ]
    }
   ],
   "source": [
    "# Example usage:\n",
    "print(palindrome_check(\"radar\"))  # Output: True\n",
    "print(palindrome_check(\"hello\"))  # Output: False\n",
    "print(palindrome_check(\"Madam\"))  # Output: True"
   ]
  },
  {
   "cell_type": "code",
   "execution_count": 14,
   "metadata": {},
   "outputs": [],
   "source": [
    "#Sum of squares of natural numbers \n",
    "\n",
    "def sum_of_squares(n):\n",
    "    if n < 1:\n",
    "        return \"Input must be a natural number (n ≥ 1).\"\n",
    "    return sum(i**2 for i in range(1, n + 1))"
   ]
  },
  {
   "cell_type": "code",
   "execution_count": 16,
   "metadata": {},
   "outputs": [],
   "source": [
    "\n",
    "def sum_of_squares(n):\n",
    "    return sum(i ** 2 for i in range(1, n + 1))\n"
   ]
  },
  {
   "cell_type": "code",
   "execution_count": 45,
   "metadata": {},
   "outputs": [],
   "source": [
    "\n",
    "#Sum of squares \n",
    "\n",
    "def sum_of_squares(n):\n",
    "    if n < 1:\n",
    "        return \"Input must be a natural number (n ≥ 1).\"\n",
    "    return sum(i**2 for i in range(1, n + 1))"
   ]
  },
  {
   "cell_type": "code",
   "execution_count": 47,
   "metadata": {},
   "outputs": [],
   "source": [
    "def sum_of_squares(n):\n",
    "    return sum(i ** 2 for i in range(1, n + 1))"
   ]
  },
  {
   "cell_type": "markdown",
   "metadata": {},
   "source": [
    "#CLASSEs.PY"
   ]
  },
  {
   "cell_type": "code",
   "execution_count": 26,
   "metadata": {},
   "outputs": [],
   "source": [
    "\n",
    "#Recatngle Class\n",
    "\n",
    "class Rectangle:\n",
    "    def __init__(self, length, width):\n",
    "        self.length = length\n",
    "        self.width = width\n",
    "\n",
    "    def area(self):\n",
    "        return self.length * self.width\n",
    "\n",
    "    def perimeter(self):\n",
    "        return 2 * (self.length + self.width)"
   ]
  },
  {
   "cell_type": "code",
   "execution_count": 27,
   "metadata": {},
   "outputs": [
    {
     "name": "stdout",
     "output_type": "stream",
     "text": [
      "Area: 15\n",
      "Perimeter: 16\n"
     ]
    }
   ],
   "source": [
    "# Example usage:\n",
    "rect = Rectangle(5, 3)\n",
    "print(f\"Area: {rect.area()}\")  # Output: 15\n",
    "print(f\"Perimeter: {rect.perimeter()}\")  # Output: 16"
   ]
  },
  {
   "cell_type": "code",
   "execution_count": 29,
   "metadata": {},
   "outputs": [],
   "source": [
    "#student class\n",
    "\n",
    "class Student:\n",
    "    def __init__(self, name, roll_number, marks):\n",
    "        self.name = name\n",
    "        self.roll_number = roll_number\n",
    "        self.marks = marks\n",
    "\n",
    "    def display_details(self):\n",
    "        print(f\"Name: {self.name}\")\n",
    "        print(f\"Roll Number: {self.roll_number}\")\n",
    "        print(f\"Marks: {self.marks}\")\n",
    "\n",
    "    def is_passed(self):\n",
    "        return self.marks >= 40"
   ]
  },
  {
   "cell_type": "code",
   "execution_count": 30,
   "metadata": {},
   "outputs": [
    {
     "name": "stdout",
     "output_type": "stream",
     "text": [
      "Name: John Doe\n",
      "Roll Number: 101\n",
      "Marks: 85\n",
      "Passed: True\n",
      "Name: Jane Smith\n",
      "Roll Number: 102\n",
      "Marks: 35\n",
      "Passed: False\n"
     ]
    }
   ],
   "source": [
    "# Example usage:\n",
    "student = Student(\"John Doe\", 101, 85)\n",
    "student.display_details()\n",
    "print(f\"Passed: {student.is_passed()}\")  # Output: True\n",
    "\n",
    "student2 = Student(\"Jane Smith\", 102, 35)\n",
    "student2.display_details()\n",
    "print(f\"Passed: {student2.is_passed()}\")  # Output: False\n"
   ]
  },
  {
   "cell_type": "code",
   "execution_count": 31,
   "metadata": {},
   "outputs": [],
   "source": [
    "#Circle Class \n",
    "\n",
    "import math\n",
    "\n",
    "class Circle:\n",
    "    def __init__(self, radius):\n",
    "        self.radius = radius\n",
    "\n",
    "    def area(self):\n",
    "        return math.pi * self.radius**2\n",
    "\n",
    "    def circumference(self):\n",
    "        return 2 * math.pi * self.radius"
   ]
  },
  {
   "cell_type": "code",
   "execution_count": 32,
   "metadata": {},
   "outputs": [
    {
     "name": "stdout",
     "output_type": "stream",
     "text": [
      "Area: 78.54\n",
      "Circumference: 31.42\n"
     ]
    }
   ],
   "source": [
    "# Example usage:\n",
    "circle = Circle(5)\n",
    "print(f\"Area: {circle.area():.2f}\")           # Output: 78.54\n",
    "print(f\"Circumference: {circle.circumference():.2f}\")  # Output: 31.42"
   ]
  },
  {
   "cell_type": "code",
   "execution_count": 33,
   "metadata": {},
   "outputs": [],
   "source": [
    "#Class Bank Balance\n",
    "\n",
    "class BankAccount:\n",
    "    def __init__(self, account_number, account_holder, balance=0):\n",
    "        self.account_number = account_number\n",
    "        self.account_holder = account_holder\n",
    "        self.balance = balance\n",
    "\n",
    "    def deposit(self, amount):\n",
    "        if amount > 0:\n",
    "            self.balance += amount\n",
    "            print(f\"Deposited: {amount}\")\n",
    "        else:\n",
    "            print(\"Deposit amount must be positive.\")\n",
    "\n",
    "    def withdraw(self, amount):\n",
    "        if amount > 0:\n",
    "            if amount <= self.balance:\n",
    "                self.balance -= amount\n",
    "                print(f\"Withdrawn: {amount}\")\n",
    "            else:\n",
    "                print(\"Insufficient balance.\")\n",
    "        else:\n",
    "            print(\"Withdrawal amount must be positive.\")\n",
    "\n",
    "    def display_balance(self):\n",
    "        print(f\"Current Balance: {self.balance}\")"
   ]
  },
  {
   "cell_type": "code",
   "execution_count": 34,
   "metadata": {},
   "outputs": [
    {
     "name": "stdout",
     "output_type": "stream",
     "text": [
      "Current Balance: 500\n",
      "Deposited: 200\n",
      "Current Balance: 700\n",
      "Withdrawn: 300\n",
      "Current Balance: 400\n",
      "Insufficient balance.\n"
     ]
    }
   ],
   "source": [
    "# Example usage:\n",
    "account = BankAccount(\"12345678\", \"John Doe\", 500)\n",
    "account.display_balance()  # Output: Current Balance: 500\n",
    "\n",
    "account.deposit(200)  # Deposited: 200\n",
    "account.display_balance()  # Output: Current Balance: 700\n",
    "\n",
    "account.withdraw(300)  # Withdrawn: 300\n",
    "account.display_balance()  # Output: Current Balance: 400\n",
    "\n",
    "account.withdraw(500)  # Output: Insufficient balance.\n"
   ]
  },
  {
   "cell_type": "code",
   "execution_count": 35,
   "metadata": {},
   "outputs": [],
   "source": [
    "\n",
    "#Class Book\n",
    "\n",
    "class Book:\n",
    "    def __init__(self, title, author, price):\n",
    "        self.title = title\n",
    "        self.author = author\n",
    "        self.price = price\n",
    "\n",
    "    def apply_discount(self, discount):\n",
    "        if 0 <= discount <= 100:\n",
    "            self.price -= self.price * (discount / 100)\n",
    "            print(f\"Discount applied: {discount}%\")\n",
    "        else:\n",
    "            print(\"Discount should be between 0 and 100.\")\n",
    "\n",
    "    def display_details(self):\n",
    "        print(f\"Title: {self.title}\")\n",
    "        print(f\"Author: {self.author}\")\n",
    "        print(f\"Price: ${self.price:.2f}\")"
   ]
  },
  {
   "cell_type": "code",
   "execution_count": 36,
   "metadata": {},
   "outputs": [
    {
     "name": "stdout",
     "output_type": "stream",
     "text": [
      "Title: The Great Gatsby\n",
      "Author: F. Scott Fitzgerald\n",
      "Price: $20.00\n",
      "Discount applied: 10%\n",
      "Title: The Great Gatsby\n",
      "Author: F. Scott Fitzgerald\n",
      "Price: $18.00\n"
     ]
    }
   ],
   "source": [
    "# Example usage:\n",
    "book = Book(\"The Great Gatsby\", \"F. Scott Fitzgerald\", 20.00)\n",
    "book.display_details()\n",
    "# Output:\n",
    "# Title: The Great Gatsby\n",
    "# Author: F. Scott Fitzgerald\n",
    "# Price: $20.00\n",
    "\n",
    "book.apply_discount(10)  # Discount applied: 10%\n",
    "book.display_details()\n",
    "# Output:\n",
    "# Title: The Great Gatsby\n",
    "# Author: F. Scott Fitzgerald\n",
    "# Price: $18.00"
   ]
  },
  {
   "cell_type": "code",
   "execution_count": 37,
   "metadata": {},
   "outputs": [],
   "source": [
    "#Class calculator\n",
    "\n",
    "class Calculator:\n",
    "    def add(self, a, b):\n",
    "        return a + b\n",
    "\n",
    "    def subtract(self, a, b):\n",
    "        return a - b\n",
    "\n",
    "    def multiply(self, a, b):\n",
    "        return a * b\n",
    "\n",
    "    def divide(self, a, b):\n",
    "        if b == 0:\n",
    "            return \"Error: Division by zero is not allowed.\"\n",
    "        return a / b"
   ]
  },
  {
   "cell_type": "code",
   "execution_count": 38,
   "metadata": {},
   "outputs": [
    {
     "name": "stdout",
     "output_type": "stream",
     "text": [
      "8\n",
      "2\n",
      "15\n",
      "1.6666666666666667\n",
      "Error: Division by zero is not allowed.\n"
     ]
    }
   ],
   "source": [
    "# Example usage:\n",
    "calc = Calculator()\n",
    "\n",
    "print(calc.add(5, 3))        # Output: 8\n",
    "print(calc.subtract(5, 3))   # Output: 2\n",
    "print(calc.multiply(5, 3))   # Output: 15\n",
    "print(calc.divide(5, 3))     # Output: 1.666...\n",
    "print(calc.divide(5, 0))     # Output: Error: Division by zero is not allowed.\n"
   ]
  },
  {
   "cell_type": "code",
   "execution_count": 39,
   "metadata": {},
   "outputs": [],
   "source": [
    "#Class Person\n",
    "\n",
    "class Person:\n",
    "    def __init__(self, name, age, gender):\n",
    "        self.name = name\n",
    "        self.age = age\n",
    "        self.gender = gender\n",
    "\n",
    "    def introduce(self):\n",
    "        print(f\"Hello, my name is {self.name}, I am {self.age} years old, and I am a {self.gender}.\")\n",
    "\n",
    "class Employee(Person):\n",
    "    def __init__(self, name, age, gender, job_title):\n",
    "        super().__init__(name, age, gender)  # Call the constructor of the Person class\n",
    "        self.job_title = job_title\n",
    "\n",
    "    def introduce(self):\n",
    "        print(f\"Hello, my name is {self.name}, I am {self.age} years old, I am a {self.gender}, and I work as a {self.job_title}.\")\n"
   ]
  },
  {
   "cell_type": "code",
   "execution_count": 40,
   "metadata": {},
   "outputs": [
    {
     "name": "stdout",
     "output_type": "stream",
     "text": [
      "Hello, my name is Alice, I am 30 years old, and I am a female.\n",
      "Hello, my name is Bob, I am 40 years old, I am a male, and I work as a Software Engineer.\n"
     ]
    }
   ],
   "source": [
    "# Example usage:\n",
    "person = Person(\"Alice\", 30, \"female\")\n",
    "person.introduce()\n",
    "# Output: Hello, my name is Alice, I am 30 years old, and I am a female.\n",
    "\n",
    "employee = Employee(\"Bob\", 40, \"male\", \"Software Engineer\")\n",
    "employee.introduce()\n",
    "# Output: Hello, my name is Bob, I am 40 years old, I am a male, and I work as a Software Engineer."
   ]
  },
  {
   "cell_type": "code",
   "execution_count": 59,
   "metadata": {},
   "outputs": [
    {
     "name": "stdout",
     "output_type": "stream",
     "text": [
      "Hello, my name is Bob, I am 40 years old, I am a male, and I work as a Software Engineer.\n"
     ]
    }
   ],
   "source": [
    "\n",
    "employee = Employee(\"Bob\", 40, \"male\", \"Software Engineer\")\n",
    "employee.introduce()\n",
    "# Output: Hello, my name is Bob, I am 40 years old, I am a male, and I work as a Software Engineer."
   ]
  },
  {
   "cell_type": "markdown",
   "metadata": {},
   "source": [
    "#File Handling"
   ]
  },
  {
   "cell_type": "code",
   "execution_count": 48,
   "metadata": {},
   "outputs": [],
   "source": [
    "# Create and write to the file\n",
    "with open('data.txt', 'w') as file:\n",
    "    for i in range(1, 11):\n",
    "        file.write(f\"{i}\\n\")"
   ]
  },
  {
   "cell_type": "code",
   "execution_count": 49,
   "metadata": {},
   "outputs": [
    {
     "name": "stdout",
     "output_type": "stream",
     "text": [
      "1\n",
      "2\n",
      "3\n",
      "4\n",
      "5\n",
      "6\n",
      "7\n",
      "8\n",
      "9\n",
      "10\n",
      "\n"
     ]
    }
   ],
   "source": [
    "\n",
    "# Read and print the contents of the file\n",
    "with open('data.txt', 'r') as file:\n",
    "    content = file.read()\n",
    "    print(content)"
   ]
  },
  {
   "cell_type": "code",
   "execution_count": 51,
   "metadata": {},
   "outputs": [],
   "source": [
    "\n",
    "# Read the file and count the words\n",
    "def count_words_in_file(filename):\n",
    "    try:\n",
    "        with open(filename, 'r') as file:\n",
    "            content = file.read()\n",
    "            words = content.split()  # Split the content into words\n",
    "            word_count = len(words)\n",
    "            print(f\"Total number of words in {filename}: {word_count}\")\n",
    "    except FileNotFoundError:\n",
    "        print(f\"The file {filename} does not exist.\")"
   ]
  },
  {
   "cell_type": "code",
   "execution_count": 52,
   "metadata": {},
   "outputs": [
    {
     "name": "stdout",
     "output_type": "stream",
     "text": [
      "The file sample.txt does not exist.\n"
     ]
    }
   ],
   "source": [
    "# Example usage\n",
    "count_words_in_file('sample.txt')"
   ]
  },
  {
   "cell_type": "markdown",
   "metadata": {},
   "source": [
    "#Error Handling"
   ]
  },
  {
   "cell_type": "code",
   "execution_count": 53,
   "metadata": {},
   "outputs": [],
   "source": [
    "# Division with error handling\n",
    "def divide_numbers():\n",
    "    try:\n",
    "        # Take input from the user\n",
    "        num1 = float(input(\"Enter the first number: \"))\n",
    "        num2 = float(input(\"Enter the second number: \"))\n",
    "        \n",
    "        # Perform division\n",
    "        result = num1 / num2\n",
    "        print(f\"The result of {num1} divided by {num2} is: {result}\")\n",
    "    \n",
    "    except ZeroDivisionError:\n",
    "        print(\"Error: Cannot divide by zero.\")\n",
    "    except ValueError:\n",
    "        print(\"Error: Please enter valid numbers.\")\n"
   ]
  },
  {
   "cell_type": "code",
   "execution_count": 54,
   "metadata": {},
   "outputs": [
    {
     "name": "stdout",
     "output_type": "stream",
     "text": [
      "The result of 1.0 divided by 1.0 is: 1.0\n"
     ]
    }
   ],
   "source": [
    "# Example usage\n",
    "divide_numbers()\n"
   ]
  },
  {
   "cell_type": "code",
   "execution_count": 55,
   "metadata": {},
   "outputs": [],
   "source": [
    "# Integer input validation\n",
    "def get_integer_input():\n",
    "    try:\n",
    "        # Ask the user to input an integer\n",
    "        user_input = int(input(\"Please enter an integer: \"))\n",
    "    except ValueError:\n",
    "        # If the user doesn't enter a valid integer, handle the error\n",
    "        print(\"Invalid input, please enter an integer.\")\n",
    "    else:\n",
    "        # If the input is valid, print the integer\n",
    "        print(f\"You entered the integer: {user_input}\")\n"
   ]
  },
  {
   "cell_type": "code",
   "execution_count": 56,
   "metadata": {},
   "outputs": [
    {
     "name": "stdout",
     "output_type": "stream",
     "text": [
      "You entered the integer: 2\n"
     ]
    }
   ],
   "source": [
    "# Example usage\n",
    "get_integer_input()\n"
   ]
  },
  {
   "cell_type": "code",
   "execution_count": 57,
   "metadata": {},
   "outputs": [],
   "source": [
    "# File Not Found error handling\n",
    "def open_file():\n",
    "    try:\n",
    "        with open('unknown.txt', 'r') as file:\n",
    "            content = file.read()\n",
    "            print(content)\n",
    "    except FileNotFoundError:\n",
    "        print(\"Error: The file 'unknown.txt' was not found.\")\n"
   ]
  },
  {
   "cell_type": "code",
   "execution_count": 58,
   "metadata": {},
   "outputs": [
    {
     "name": "stdout",
     "output_type": "stream",
     "text": [
      "Error: The file 'unknown.txt' was not found.\n"
     ]
    }
   ],
   "source": [
    "\n",
    "# Example usage\n",
    "open_file()"
   ]
  }
 ],
 "metadata": {
  "kernelspec": {
   "display_name": "Python 3",
   "language": "python",
   "name": "python3"
  },
  "language_info": {
   "codemirror_mode": {
    "name": "ipython",
    "version": 3
   },
   "file_extension": ".py",
   "mimetype": "text/x-python",
   "name": "python",
   "nbconvert_exporter": "python",
   "pygments_lexer": "ipython3",
   "version": "3.13.0"
  }
 },
 "nbformat": 4,
 "nbformat_minor": 2
}
